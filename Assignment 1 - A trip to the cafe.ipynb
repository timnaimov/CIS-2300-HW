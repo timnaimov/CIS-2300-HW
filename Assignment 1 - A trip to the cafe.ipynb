{
 "cells": [
  {
   "cell_type": "markdown",
   "id": "93c25fe4",
   "metadata": {},
   "source": [
    "### Name: Timur Naimov\n",
    "\n",
    "### Date: Wed, June 14\n",
    "\n",
    "### Title: Assignment 1 - A trip to the cafe"
   ]
  },
  {
   "cell_type": "code",
   "execution_count": 2,
   "id": "41d07342",
   "metadata": {},
   "outputs": [
    {
     "name": "stdout",
     "output_type": "stream",
     "text": [
      "Enter the price of a latte: $3\n",
      "Enter the price of a chocolate energy bar: $4\n",
      "Amount of purchase: $7.00\n",
      "State sales tax: $0.28\n",
      "County sales tax: $0.34\n",
      "Total sales tax: $0.62\n",
      "Total sale: $7.62\n"
     ]
    }
   ],
   "source": [
    "lattePrice = float(input(\"Enter the price of a latte: $\"))\n",
    "barPrice = float(input(\"Enter the price of a chocolate energy bar: $\"))\n",
    "\n",
    "stateTaxrate = 0.04\n",
    "countyTaxrate = 0.04875\n",
    "\n",
    "purchaseAmount = lattePrice + barPrice\n",
    "stateSalestax = purchaseAmount * stateTaxrate\n",
    "countySalestax = purchaseAmount * countyTaxrate\n",
    "totalSalestax = stateSalestax + countySalestax\n",
    "totalSale = purchaseAmount + totalSalestax\n",
    "\n",
    "print(\"Amount of purchase: $\", format(purchaseAmount, \".2f\"), sep=\"\")\n",
    "print(\"State sales tax: $\", format(stateSalestax, \".2f\"), sep=\"\")\n",
    "print(\"County sales tax: $\", format(countySalestax, \".2f\"), sep=\"\")\n",
    "print(\"Total sales tax: $\", format(totalSalestax, \".2f\"), sep=\"\")\n",
    "print(\"Total sale: $\", format(totalSale, \".2f\"), sep=\"\")"
   ]
  },
  {
   "cell_type": "code",
   "execution_count": null,
   "id": "4f428bbb",
   "metadata": {},
   "outputs": [],
   "source": []
  }
 ],
 "metadata": {
  "kernelspec": {
   "display_name": "Python 3 (ipykernel)",
   "language": "python",
   "name": "python3"
  },
  "language_info": {
   "codemirror_mode": {
    "name": "ipython",
    "version": 3
   },
   "file_extension": ".py",
   "mimetype": "text/x-python",
   "name": "python",
   "nbconvert_exporter": "python",
   "pygments_lexer": "ipython3",
   "version": "3.9.7"
  }
 },
 "nbformat": 4,
 "nbformat_minor": 5
}
